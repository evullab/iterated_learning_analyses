{
 "cells": [
  {
   "cell_type": "code",
   "execution_count": 3,
   "metadata": {
    "collapsed": false
   },
   "outputs": [],
   "source": [
    "import pandas as pd\n",
    "import numpy as np\n",
    "import os\n",
    "\n",
    "from bokeh.plotting import figure, show, output_file\n",
    "from bokeh.model import Fix\n",
    "import seaborn as sns"
   ]
  },
  {
   "cell_type": "code",
   "execution_count": 4,
   "metadata": {
    "collapsed": true
   },
   "outputs": [],
   "source": [
    "data_fold='figure_csv'"
   ]
  },
  {
   "cell_type": "markdown",
   "metadata": {},
   "source": [
    "# Subject results"
   ]
  },
  {
   "cell_type": "code",
   "execution_count": 5,
   "metadata": {
    "collapsed": true
   },
   "outputs": [],
   "source": [
    "type_fold='subj'"
   ]
  },
  {
   "cell_type": "markdown",
   "metadata": {},
   "source": [
    "# Cluster dispersion"
   ]
  },
  {
   "cell_type": "code",
   "execution_count": 30,
   "metadata": {
    "collapsed": false
   },
   "outputs": [],
   "source": [
    "disp_fname='subj_dispersion.csv'\n",
    "\n",
    "dispersion_df=pd.read_csv(os.path.join(data_fold,type_fold,disp_fname))\n",
    "disperion_by_display=dispersion_df.loc[:,['iter', 'disp','value']].groupby(['iter','disp']).mean().reset_index()\n",
    "dispersion_by_iter=disperion_by_display.loc[:,['value','iter']].groupby('iter')\n",
    "\n",
    "dispersion_mean=dispersion_by_iter.mean().reset_index()\n",
    "dispersion_std=dispersion_by_iter.std()\n",
    "dispersion_num=dispersion_by_iter.size()\n",
    "dispersion_sem=pd.DataFrame(np.divide(dispersion_std.value,np.sqrt(dispersion_num))).reset_index()\n",
    "dispersion_sem.columns=['iter','dispersion_sem']\n",
    "dispersion_stats=pd.merge(dispersion_mean,dispersion_sem,on='iter')\n",
    "dispersion_stats.columns=['iter','dispersion','dispersion_sem']"
   ]
  },
  {
   "cell_type": "code",
   "execution_count": 31,
   "metadata": {
    "collapsed": false
   },
   "outputs": [
    {
     "data": {
      "text/html": [
       "<div>\n",
       "<table border=\"1\" class=\"dataframe\">\n",
       "  <thead>\n",
       "    <tr style=\"text-align: right;\">\n",
       "      <th></th>\n",
       "      <th>iter</th>\n",
       "      <th>dispersion</th>\n",
       "      <th>dispersion_sem</th>\n",
       "    </tr>\n",
       "  </thead>\n",
       "  <tbody>\n",
       "    <tr>\n",
       "      <th>0</th>\n",
       "      <td>1</td>\n",
       "      <td>6.255278</td>\n",
       "      <td>0.056058</td>\n",
       "    </tr>\n",
       "    <tr>\n",
       "      <th>1</th>\n",
       "      <td>2</td>\n",
       "      <td>6.207970</td>\n",
       "      <td>0.055556</td>\n",
       "    </tr>\n",
       "    <tr>\n",
       "      <th>2</th>\n",
       "      <td>3</td>\n",
       "      <td>6.182168</td>\n",
       "      <td>0.062101</td>\n",
       "    </tr>\n",
       "    <tr>\n",
       "      <th>3</th>\n",
       "      <td>4</td>\n",
       "      <td>6.107065</td>\n",
       "      <td>0.066209</td>\n",
       "    </tr>\n",
       "    <tr>\n",
       "      <th>4</th>\n",
       "      <td>5</td>\n",
       "      <td>6.049405</td>\n",
       "      <td>0.069182</td>\n",
       "    </tr>\n",
       "  </tbody>\n",
       "</table>\n",
       "</div>"
      ],
      "text/plain": [
       "   iter  dispersion  dispersion_sem\n",
       "0     1    6.255278        0.056058\n",
       "1     2    6.207970        0.055556\n",
       "2     3    6.182168        0.062101\n",
       "3     4    6.107065        0.066209\n",
       "4     5    6.049405        0.069182"
      ]
     },
     "execution_count": 31,
     "metadata": {},
     "output_type": "execute_result"
    }
   ],
   "source": [
    "dispersion_stats.head()"
   ]
  },
  {
   "cell_type": "code",
   "execution_count": 32,
   "metadata": {
    "collapsed": false
   },
   "outputs": [],
   "source": [
    "plot = figure(width=1000, height=600)\n",
    "\n",
    "\n",
    "plot.line(x=dispersion_stats.iter,y=dispersion_stats.dispersion,color='dodgerblue',line_width=6)\n",
    "plot.scatter(x=dispersion_stats.iter,y=dispersion_stats.dispersion,color='dodgerblue',size=20)\n",
    "\n",
    "err_xs = []\n",
    "err_ys = []\n",
    "\n",
    "for x, y, yerr in zip(dispersion_stats.iter, dispersion_stats.dispersion, dispersion_stats.dispersion_sem):\n",
    "    err_xs.append((x, x))\n",
    "    err_ys.append((y - yerr, y + yerr))\n",
    "\n",
    "plot.multi_line(err_xs, err_ys, color='dodgerblue',line_width=6)\n",
    "\n",
    "plot.xaxis.axis_label='Iteration'\n",
    "plot.xaxis.axis_label_text_font_size='32px'\n",
    "plot.xaxis.major_label_text_font_size='24px'\n",
    "\n",
    "plot.yaxis.axis_label='Log Group Dispersion'\n",
    "plot.yaxis.axis_label_text_font_size='32px'\n",
    "plot.yaxis.major_label_text_font_size='24px'\n",
    "\n",
    "plot.xgrid.grid_line_color = None\n",
    "\n",
    "output_file('group_dispersion.html')\n",
    "show(plot)"
   ]
  },
  {
   "cell_type": "markdown",
   "metadata": {},
   "source": [
    "# Stack plot"
   ]
  },
  {
   "cell_type": "code",
   "execution_count": 29,
   "metadata": {
    "collapsed": true
   },
   "outputs": [],
   "source": [
    "from bokeh.charts import Area\n",
    "from bokeh.models import Range1d\n",
    "from collections import OrderedDict"
   ]
  },
  {
   "cell_type": "code",
   "execution_count": 30,
   "metadata": {
    "collapsed": true
   },
   "outputs": [],
   "source": [
    "line_fname='line_example.csv'\n",
    "\n",
    "line_df=pd.read_csv(os.path.join(data_fold,line_fname))\n",
    "line_df2=line_df.iloc[:,1:]"
   ]
  },
  {
   "cell_type": "code",
   "execution_count": 31,
   "metadata": {
    "collapsed": false
   },
   "outputs": [],
   "source": [
    "def rgb_to_hex(rgb):\n",
    "    return '#%02x%02x%02x' % tuple(rgb)\n",
    "temp=[[255*j for j in i] for i in sns.color_palette(\"RdBu\")]\n",
    "cols=[rgb_to_hex(i) for i in temp]\n",
    "cols.reverse()\n",
    "cols=cols[0:4]\n",
    "cols.insert(0,'darkred')"
   ]
  },
  {
   "cell_type": "code",
   "execution_count": 32,
   "metadata": {
    "collapsed": false
   },
   "outputs": [],
   "source": [
    "def stacked(df, categories):\n",
    "    areas = dict()\n",
    "    last = np.zeros(len(df[categories[0]]))\n",
    "    for cat in categories:\n",
    "        next = last + df[cat]\n",
    "        areas[cat] = np.hstack((last[::-1], next))\n",
    "        last = next\n",
    "    return areas\n",
    "\n",
    "categories=line_df2.columns\n",
    "areas=stacked(line_df2, categories)\n",
    "\n",
    "colors =cols#['indianred','dodgerblue','orange','teal','red']\n",
    "\n",
    "x2 = np.hstack((line_df['iter'][::-1], line_df['iter']))\n",
    "\n",
    "plot = figure(width=1000, height=600,x_range=Range1d(0,5), y_range=Range1d(0,1))\n",
    "\n",
    "for a, area in enumerate(sorted(areas.keys())):\n",
    "    plot.patch(x2, areas[area], color=colors[a],legend=area)\n",
    "\n",
    "\n",
    "# bells and whistles\n",
    "plot.xgrid.grid_line_color = None\n",
    "plot.ygrid.grid_line_color = None\n",
    "\n",
    "plot.xaxis.axis_label='Iteration'\n",
    "plot.xaxis.axis_label_text_font_size='32px'\n",
    "plot.xaxis.major_label_text_font_size='24px'\n",
    "\n",
    "plot.yaxis.axis_label='Proportion'\n",
    "plot.yaxis.axis_label_text_font_size='32px'\n",
    "plot.yaxis.major_label_text_font_size='24px'\n",
    "\n",
    "\n",
    "output_file(\"line_plot.html\")\n",
    "show(plot)"
   ]
  },
  {
   "cell_type": "markdown",
   "metadata": {},
   "source": [
    "# Similarity comparison"
   ]
  },
  {
   "cell_type": "code",
   "execution_count": 33,
   "metadata": {
    "collapsed": true
   },
   "outputs": [],
   "source": [
    "similar_fname='similarity_example.csv'\n",
    "\n",
    "similarity_all_df=pd.read_csv(os.path.join(data_fold,similar_fname))\n",
    "split_cats=np.unique(similarity_all_df.loc[:,'split'])"
   ]
  },
  {
   "cell_type": "code",
   "execution_count": 38,
   "metadata": {
    "collapsed": false
   },
   "outputs": [],
   "source": [
    "plot = figure(width=1000, height=600)\n",
    "color=['indianred','dodgerblue']\n",
    "\n",
    "# Plot lines\n",
    "\n",
    "for i,col in zip(split_cats,color):\n",
    "    similar_df=similarity_all_df.loc[similarity_all_df.loc[:,'split']==i]\n",
    "    \n",
    "    similar_by_display=similar_df.loc[:,['iter', 'disp','num']].groupby(['iter','disp']).mean().reset_index()\n",
    "    similar_by_iter=similar_by_display.loc[:,['num','iter']].groupby('iter')\n",
    "\n",
    "    similar_mean=similar_by_iter.mean().reset_index()\n",
    "    similar_std=similar_by_iter.std()\n",
    "    similar_num=similar_by_iter.size()\n",
    "    similar_sem=pd.DataFrame(np.divide(similar_std.num,np.sqrt(similar_num))).reset_index()\n",
    "    similar_sem.columns=['iter','num_sem']\n",
    "    similar_stats=pd.merge(similar_mean,similar_sem,on='iter')\n",
    "    \n",
    "    plot.line(x=dispersion_stats.iter,y=similar_stats.num,color=col,line_width=6,legend=str(i))\n",
    "    plot.scatter(x=dispersion_stats.iter,y=similar_stats.num,color=col,size=20)\n",
    "\n",
    "    err_xs = []\n",
    "    err_ys = []\n",
    "\n",
    "    for x, y, yerr in zip(similar_stats.iter, similar_stats.num, similar_stats.num_sem):\n",
    "        err_xs.append((x, x))\n",
    "        err_ys.append((y - yerr, y + yerr))\n",
    "\n",
    "    plot.multi_line(err_xs, err_ys, color=col,line_width=6)\n",
    "\n",
    "    \n",
    "plot.xaxis.axis_label='Iteration'\n",
    "plot.xaxis.axis_label_text_font_size='32px'\n",
    "plot.xaxis.major_label_text_font_size='24px'\n",
    "\n",
    "plot.yaxis.axis_label='Number in groups'\n",
    "plot.yaxis.axis_label_text_font_size='32px'\n",
    "plot.yaxis.major_label_text_font_size='24px'\n",
    "\n",
    "plot.xgrid.grid_line_color = None\n",
    "\n",
    "output_file('similarity_analysis.html')\n",
    "show(plot)"
   ]
  },
  {
   "cell_type": "code",
   "execution_count": null,
   "metadata": {
    "collapsed": true
   },
   "outputs": [],
   "source": []
  }
 ],
 "metadata": {
  "kernelspec": {
   "display_name": "Python 2",
   "language": "python",
   "name": "python2"
  },
  "language_info": {
   "codemirror_mode": {
    "name": "ipython",
    "version": 2
   },
   "file_extension": ".py",
   "mimetype": "text/x-python",
   "name": "python",
   "nbconvert_exporter": "python",
   "pygments_lexer": "ipython2",
   "version": "2.7.11"
  }
 },
 "nbformat": 4,
 "nbformat_minor": 0
}
