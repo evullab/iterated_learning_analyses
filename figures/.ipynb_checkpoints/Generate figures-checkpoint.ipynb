{
 "cells": [
  {
   "cell_type": "code",
   "execution_count": 172,
   "metadata": {
    "collapsed": false
   },
   "outputs": [],
   "source": [
    "import pandas as pd\n",
    "import numpy as np\n",
    "import os\n",
    "\n",
    "from bokeh.plotting import figure, show, output_file\n",
    "import seaborn as sns"
   ]
  },
  {
   "cell_type": "code",
   "execution_count": 7,
   "metadata": {
    "collapsed": true
   },
   "outputs": [],
   "source": [
    "data_fold='figure_csv'"
   ]
  },
  {
   "cell_type": "markdown",
   "metadata": {},
   "source": [
    "# Cluster dispersion"
   ]
  },
  {
   "cell_type": "code",
   "execution_count": 89,
   "metadata": {
    "collapsed": false
   },
   "outputs": [],
   "source": [
    "disp_fname='dispersion_example.csv'\n",
    "\n",
    "dispersion_df=pd.read_csv(os.path.join(data_fold,disp_fname))\n",
    "disperion_by_display=dispersion_df.loc[:,['iter', 'disp','dispersion']].groupby(['iter','disp']).mean().reset_index()\n",
    "dispersion_by_iter=disperion_by_display.loc[:,['dispersion','iter']].groupby('iter')\n",
    "\n",
    "dispersion_mean=dispersion_by_iter.mean().reset_index()\n",
    "dispersion_std=dispersion_by_iter.std()\n",
    "dispersion_num=dispersion_by_iter.size()\n",
    "dispersion_sem=pd.DataFrame(np.divide(dispersion_std.dispersion,np.sqrt(dispersion_num))).reset_index()\n",
    "dispersion_sem.columns=['iter','dispersion_sem']\n",
    "dispersion_stats=pd.merge(dispersion_mean,dispersion_sem,on='iter')"
   ]
  },
  {
   "cell_type": "code",
   "execution_count": 86,
   "metadata": {
    "collapsed": false
   },
   "outputs": [],
   "source": [
    "plot = figure(width=1000, height=600)\n",
    "\n",
    "\n",
    "plot.line(x=dispersion_stats.iter,y=dispersion_stats.dispersion,color='#666699',line_width=4)\n",
    "\n",
    "err_xs = []\n",
    "err_ys = []\n",
    "\n",
    "for x, y, yerr in zip(dispersion_stats.iter, dispersion_stats.dispersion, dispersion_stats.dispersion_sem):\n",
    "    err_xs.append((x, x))\n",
    "    err_ys.append((y - yerr, y + yerr))\n",
    "\n",
    "plot.multi_line(err_xs, err_ys, color='#666699',line_width=4)\n",
    "\n",
    "plot.xaxis.axis_label='Iteration'\n",
    "plot.xaxis.axis_label_text_font_size='32px'\n",
    "plot.xaxis.major_label_text_font_size='24px'\n",
    "\n",
    "plot.yaxis.axis_label='Log Group Dispersion'\n",
    "plot.yaxis.axis_label_text_font_size='32px'\n",
    "plot.yaxis.major_label_text_font_size='24px'\n",
    "\n",
    "plot.xgrid.grid_line_color = None\n",
    "\n",
    "output_file('group_dispersion.html')\n",
    "show(plot)"
   ]
  },
  {
   "cell_type": "markdown",
   "metadata": {},
   "source": [
    "# Stack plot"
   ]
  },
  {
   "cell_type": "code",
   "execution_count": 237,
   "metadata": {
    "collapsed": true
   },
   "outputs": [],
   "source": [
    "from bokeh.charts import Area\n",
    "from bokeh.models import Range1d\n",
    "from collections import OrderedDict"
   ]
  },
  {
   "cell_type": "code",
   "execution_count": 168,
   "metadata": {
    "collapsed": true
   },
   "outputs": [],
   "source": [
    "line_fname='line_example.csv'\n",
    "\n",
    "line_df=pd.read_csv(os.path.join(data_fold,line_fname))\n",
    "line_df2=line_df.iloc[:,1:]"
   ]
  },
  {
   "cell_type": "code",
   "execution_count": 249,
   "metadata": {
    "collapsed": false
   },
   "outputs": [],
   "source": [
    "def rgb_to_hex(rgb):\n",
    "    return '#%02x%02x%02x' % tuple(rgb)\n",
    "temp=[[255*j for j in i] for i in sns.color_palette(\"RdBu\")]\n",
    "cols=[rgb_to_hex(i) for i in temp]\n",
    "cols.reverse()\n",
    "cols=cols[0:4]\n",
    "cols.insert(0,'darkred')"
   ]
  },
  {
   "cell_type": "code",
   "execution_count": 251,
   "metadata": {
    "collapsed": false
   },
   "outputs": [
    {
     "name": "stdout",
     "output_type": "stream",
     "text": [
      "line\n",
      "q1\n",
      "q2\n",
      "q3\n",
      "q4\n"
     ]
    }
   ],
   "source": [
    "def stacked(df, categories):\n",
    "    areas = dict()\n",
    "    last = np.zeros(len(df[categories[0]]))\n",
    "    for cat in categories:\n",
    "        next = last + df[cat]\n",
    "        areas[cat] = np.hstack((last[::-1], next))\n",
    "        last = next\n",
    "    return areas\n",
    "\n",
    "categories=line_df2.columns\n",
    "areas=stacked(line_df2, categories)\n",
    "\n",
    "colors =cols#['indianred','dodgerblue','orange','teal','red']\n",
    "\n",
    "x2 = np.hstack((line_df['iter'][::-1], line_df['iter']))\n",
    "\n",
    "plot = figure(width=1000, height=600,x_range=Range1d(0,5), y_range=Range1d(0,1))\n",
    "\n",
    "for a, area in enumerate(sorted(areas.keys())):\n",
    "    plot.patch(x2, areas[area], color=colors[a],legend=area)\n",
    "\n",
    "\n",
    "# bells and whistles\n",
    "plot.xgrid.grid_line_color = None\n",
    "plot.ygrid.grid_line_color = None\n",
    "\n",
    "plot.xaxis.axis_label='Iteration'\n",
    "plot.xaxis.axis_label_text_font_size='32px'\n",
    "plot.xaxis.major_label_text_font_size='24px'\n",
    "\n",
    "plot.yaxis.axis_label='Proportion'\n",
    "plot.yaxis.axis_label_text_font_size='32px'\n",
    "plot.yaxis.major_label_text_font_size='24px'\n",
    "\n",
    "\n",
    "output_file(\"line_plot.html\")\n",
    "show(plot)"
   ]
  },
  {
   "cell_type": "markdown",
   "metadata": {},
   "source": [
    "# Similarity comparison"
   ]
  },
  {
   "cell_type": "code",
   "execution_count": 220,
   "metadata": {
    "collapsed": true
   },
   "outputs": [],
   "source": [
    "similar_fname='similarity_example.csv'\n",
    "\n",
    "similarity_all_df=pd.read_csv(os.path.join(data_fold,similar_fname))\n",
    "split_cats=np.unique(similarity_all_df.loc[:,'split'])"
   ]
  },
  {
   "cell_type": "code",
   "execution_count": 225,
   "metadata": {
    "collapsed": false
   },
   "outputs": [],
   "source": [
    "plot = figure(width=1000, height=600)\n",
    "color=['indianred','dodgerblue']\n",
    "\n",
    "# Plot lines\n",
    "\n",
    "for i,col in zip(split_cats,color):\n",
    "    similar_df=similarity_all_df.loc[similarity_all_df.loc[:,'split']==i]\n",
    "    \n",
    "    similar_by_display=similar_df.loc[:,['iter', 'disp','num']].groupby(['iter','disp']).mean().reset_index()\n",
    "    similar_by_iter=similar_by_display.loc[:,['num','iter']].groupby('iter')\n",
    "\n",
    "    similar_mean=similar_by_iter.mean().reset_index()\n",
    "    similar_std=similar_by_iter.std()\n",
    "    similar_num=similar_by_iter.size()\n",
    "    similar_sem=pd.DataFrame(np.divide(similar_std.num,np.sqrt(similar_num))).reset_index()\n",
    "    similar_sem.columns=['iter','num_sem']\n",
    "    similar_stats=pd.merge(similar_mean,similar_sem,on='iter')\n",
    "    \n",
    "    plot.line(x=dispersion_stats.iter,y=similar_stats.num,color=col,line_width=4,legend=str(i))\n",
    "\n",
    "    err_xs = []\n",
    "    err_ys = []\n",
    "\n",
    "    for x, y, yerr in zip(similar_stats.iter, similar_stats.num, similar_stats.num_sem):\n",
    "        err_xs.append((x, x))\n",
    "        err_ys.append((y - yerr, y + yerr))\n",
    "\n",
    "    plot.multi_line(err_xs, err_ys, color=col,line_width=4)\n",
    "\n",
    "    \n",
    "plot.xaxis.axis_label='Iteration'\n",
    "plot.xaxis.axis_label_text_font_size='32px'\n",
    "plot.xaxis.major_label_text_font_size='24px'\n",
    "\n",
    "plot.yaxis.axis_label='Number in groups'\n",
    "plot.yaxis.axis_label_text_font_size='32px'\n",
    "plot.yaxis.major_label_text_font_size='24px'\n",
    "\n",
    "plot.xgrid.grid_line_color = None\n",
    "\n",
    "output_file('similarity_analysis.html')\n",
    "show(plot)"
   ]
  },
  {
   "cell_type": "code",
   "execution_count": null,
   "metadata": {
    "collapsed": true
   },
   "outputs": [],
   "source": []
  }
 ],
 "metadata": {
  "kernelspec": {
   "display_name": "Python 2",
   "language": "python",
   "name": "python2"
  },
  "language_info": {
   "codemirror_mode": {
    "name": "ipython",
    "version": 2
   },
   "file_extension": ".py",
   "mimetype": "text/x-python",
   "name": "python",
   "nbconvert_exporter": "python",
   "pygments_lexer": "ipython2",
   "version": "2.7.11"
  }
 },
 "nbformat": 4,
 "nbformat_minor": 0
}
