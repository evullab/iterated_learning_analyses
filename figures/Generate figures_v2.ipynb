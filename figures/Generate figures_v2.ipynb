{
 "cells": [
  {
   "cell_type": "code",
   "execution_count": 1,
   "metadata": {
    "collapsed": false
   },
   "outputs": [],
   "source": [
    "import pandas as pd\n",
    "import numpy as np\n",
    "import os\n",
    "\n",
    "from bokeh.plotting import figure, show, output_file,gridplot\n",
    "from bokeh.models import FixedTicker,Range1d\n",
    "\n",
    "import seaborn as sns"
   ]
  },
  {
   "cell_type": "code",
   "execution_count": 31,
   "metadata": {
    "collapsed": true
   },
   "outputs": [],
   "source": [
    "data_fold='figure_csv'"
   ]
  },
  {
   "cell_type": "markdown",
   "metadata": {},
   "source": [
    "# Subject results"
   ]
  },
  {
   "cell_type": "code",
   "execution_count": 32,
   "metadata": {
    "collapsed": true
   },
   "outputs": [],
   "source": [
    "type_fold='subj'"
   ]
  },
  {
   "cell_type": "markdown",
   "metadata": {},
   "source": [
    "# Cluster dispersion"
   ]
  },
  {
   "cell_type": "code",
   "execution_count": 4,
   "metadata": {
    "collapsed": false
   },
   "outputs": [],
   "source": [
    "disp_fname='subj_dispersion.csv'\n",
    "\n",
    "dispersion_df=pd.read_csv(os.path.join(data_fold,type_fold,disp_fname))\n",
    "disperion_by_display=dispersion_df.loc[:,['iter', 'disp','value']].groupby(['iter','disp']).mean().reset_index()\n",
    "dispersion_by_iter=disperion_by_display.loc[:,['value','iter']].groupby('iter')\n",
    "\n",
    "dispersion_mean=dispersion_by_iter.mean().reset_index()\n",
    "dispersion_std=dispersion_by_iter.std()\n",
    "dispersion_num=dispersion_by_iter.size()\n",
    "dispersion_sem=pd.DataFrame(np.divide(dispersion_std.value,np.sqrt(dispersion_num))).reset_index()\n",
    "dispersion_sem.columns=['iter','dispersion_sem']\n",
    "dispersion_stats=pd.merge(dispersion_mean,dispersion_sem,on='iter')\n",
    "dispersion_stats.columns=['iter','dispersion','dispersion_sem']"
   ]
  },
  {
   "cell_type": "code",
   "execution_count": 5,
   "metadata": {
    "collapsed": false
   },
   "outputs": [],
   "source": [
    "plot = figure(width=1000, height=600)\n",
    "\n",
    "\n",
    "plot.line(x=dispersion_stats.iter,y=dispersion_stats.dispersion,color='cornflowerblue',line_width=6)\n",
    "plot.scatter(x=dispersion_stats.iter,y=dispersion_stats.dispersion,color='cornflowerblue',size=15)\n",
    "\n",
    "err_xs = []\n",
    "err_ys = []\n",
    "\n",
    "for x, y, yerr in zip(dispersion_stats.iter, dispersion_stats.dispersion, dispersion_stats.dispersion_sem):\n",
    "    err_xs.append((x, x))\n",
    "    err_ys.append((y - yerr, y + yerr))\n",
    "\n",
    "plot.multi_line(err_xs, err_ys, color='cornflowerblue',line_width=6)\n",
    "\n",
    "plot.xaxis.axis_label='Iteration'\n",
    "plot.xaxis.axis_label_text_font_size='32px'\n",
    "plot.xaxis.major_label_text_font_size='24px'\n",
    "\n",
    "plot.yaxis.axis_label='Log Group Dispersion'\n",
    "plot.yaxis.axis_label_text_font_size='32px'\n",
    "plot.yaxis.major_label_text_font_size='24px'\n",
    "\n",
    "plot.xgrid.grid_line_color = None\n",
    "plot.ygrid[0].ticker.desired_num_ticks = 4\n",
    "\n",
    "output_file('group_dispersion.html')\n",
    "show(plot)"
   ]
  },
  {
   "cell_type": "markdown",
   "metadata": {},
   "source": [
    "# Line proportion"
   ]
  },
  {
   "cell_type": "code",
   "execution_count": 6,
   "metadata": {
    "collapsed": false
   },
   "outputs": [],
   "source": [
    "disp_fname='subj_line_proportion.csv'\n",
    "\n",
    "line_df=pd.read_csv(os.path.join(data_fold,type_fold,disp_fname))\n",
    "line_by_display=line_df.loc[:,['iter', 'disp','value']].groupby(['iter','disp']).mean().reset_index()\n",
    "line_by_iter=line_by_display.loc[:,['value','iter']].groupby('iter')\n",
    "\n",
    "line_mean=line_by_iter.mean().reset_index()\n",
    "line_std=line_by_iter.std()\n",
    "line_num=line_by_iter.size()\n",
    "line_sem=pd.DataFrame(np.divide(line_std.value,np.sqrt(line_num))).reset_index()\n",
    "line_sem.columns=['iter','line_sem']\n",
    "line_stats=pd.merge(line_mean,line_sem,on='iter')\n",
    "line_stats.columns=['iter','line','line_sem']"
   ]
  },
  {
   "cell_type": "code",
   "execution_count": 7,
   "metadata": {
    "collapsed": false
   },
   "outputs": [],
   "source": [
    "plot = figure(width=1000, height=600)\n",
    "\n",
    "\n",
    "plot.line(x=line_stats.iter,y=line_stats.line,color='cornflowerblue',line_width=6)\n",
    "plot.scatter(x=line_stats.iter,y=line_stats.line,color='cornflowerblue',size=15)\n",
    "\n",
    "err_xs = []\n",
    "err_ys = []\n",
    "\n",
    "for x, y, yerr in zip(line_stats.iter, line_stats.line, line_stats.line_sem):\n",
    "    err_xs.append((x, x))\n",
    "    err_ys.append((y - yerr, y + yerr))\n",
    "\n",
    "plot.multi_line(err_xs, err_ys, color='cornflowerblue',line_width=6)\n",
    "\n",
    "plot.xaxis.axis_label='Iteration'\n",
    "plot.xaxis.axis_label_text_font_size='32px'\n",
    "plot.xaxis.major_label_text_font_size='24px'\n",
    "\n",
    "plot.yaxis.axis_label='Proportion of Line Groups'\n",
    "plot.yaxis.axis_label_text_font_size='32px'\n",
    "plot.yaxis.major_label_text_font_size='24px'\n",
    "\n",
    "plot.xgrid.grid_line_color = None\n",
    "plot.ygrid[0].ticker.desired_num_ticks = 3\n",
    "\n",
    "output_file('line_proportion.html')\n",
    "show(plot)"
   ]
  },
  {
   "cell_type": "markdown",
   "metadata": {},
   "source": [
    "# Similarity comparison"
   ]
  },
  {
   "cell_type": "code",
   "execution_count": 33,
   "metadata": {
    "collapsed": false
   },
   "outputs": [],
   "source": [
    "disp_fname='subj_len_sim.csv'\n",
    "\n",
    "len_sim_df=pd.read_csv(os.path.join(data_fold,type_fold,disp_fname))\n",
    "len_sim_by_display=len_sim_df.loc[:,['iter', 'disp','value']].groupby(['iter','disp']).mean().reset_index()\n",
    "len_sim_by_iter=len_sim_by_display.loc[:,['value','iter']].groupby('iter')\n",
    "\n",
    "len_sim_mean=len_sim_by_iter.mean().reset_index()\n",
    "len_sim_std=len_sim_by_iter.std()\n",
    "len_sim_num=len_sim_by_iter.size()\n",
    "len_sim_sem=pd.DataFrame(np.divide(len_sim_std.value,np.sqrt(len_sim_num))).reset_index()\n",
    "len_sim_sem.columns=['iter','len_sim_sem']\n",
    "len_sim_stats=pd.merge(len_sim_mean,len_sim_sem,on='iter')\n",
    "len_sim_stats.columns=['iter','num_sim','num_sim_sem']"
   ]
  },
  {
   "cell_type": "code",
   "execution_count": 34,
   "metadata": {
    "collapsed": false
   },
   "outputs": [],
   "source": [
    "plot = figure(width=1000, height=600)\n",
    "\n",
    "\n",
    "plot.line(x=len_sim_stats.iter,y=len_sim_stats.num_sim,color='cornflowerblue',line_width=6)\n",
    "plot.scatter(x=len_sim_stats.iter,y=len_sim_stats.num_sim,color='cornflowerblue',size=15)\n",
    "\n",
    "err_xs = []\n",
    "err_ys = []\n",
    "\n",
    "for x, y, yerr in zip(len_sim_stats.iter, len_sim_stats.num_sim, len_sim_stats.num_sim_sem):\n",
    "    err_xs.append((x, x))\n",
    "    err_ys.append((y - yerr, y + yerr))\n",
    "\n",
    "plot.multi_line(err_xs, err_ys, color='cornflowerblue',line_width=6)\n",
    "\n",
    "plot.xaxis.axis_label='Iteration'\n",
    "plot.xaxis.axis_label_text_font_size='32px'\n",
    "plot.xaxis.major_label_text_font_size='24px'\n",
    "\n",
    "plot.yaxis.axis_label='Similar-Different Length Line Pairs'\n",
    "plot.yaxis.axis_label_text_font_size='32px'\n",
    "plot.yaxis.major_label_text_font_size='24px'\n",
    "\n",
    "plot.xgrid.grid_line_color = None\n",
    "\n",
    "output_file('len_sim.html')\n",
    "show(plot)"
   ]
  },
  {
   "cell_type": "code",
   "execution_count": 10,
   "metadata": {
    "collapsed": false
   },
   "outputs": [],
   "source": [
    "disp_fname='subj_ang_sim.csv'\n",
    "\n",
    "ang_sim_df=pd.read_csv(os.path.join(data_fold,type_fold,disp_fname))\n",
    "ang_sim_by_display=ang_sim_df.loc[:,['iter', 'disp','value']].groupby(['iter','disp']).mean().reset_index()\n",
    "ang_sim_by_iter=ang_sim_by_display.loc[:,['value','iter']].groupby('iter')\n",
    "\n",
    "ang_sim_mean=ang_sim_by_iter.mean().reset_index()\n",
    "ang_sim_std=ang_sim_by_iter.std()\n",
    "ang_sim_num=ang_sim_by_iter.size()\n",
    "ang_sim_sem=pd.DataFrame(np.divide(ang_sim_std.value,np.sqrt(ang_sim_num))).reset_index()\n",
    "ang_sim_sem.columns=['iter','ang_sim_sem']\n",
    "ang_sim_stats=pd.merge(ang_sim_mean,ang_sim_sem,on='iter')\n",
    "ang_sim_stats.columns=['iter','num_sim','num_sim_sem']"
   ]
  },
  {
   "cell_type": "code",
   "execution_count": 11,
   "metadata": {
    "collapsed": false
   },
   "outputs": [],
   "source": [
    "plot = figure(width=1000, height=600)\n",
    "\n",
    "\n",
    "plot.line(x=ang_sim_stats.iter,y=ang_sim_stats.num_sim,color='cornflowerblue',line_width=6)\n",
    "plot.scatter(x=ang_sim_stats.iter,y=ang_sim_stats.num_sim,color='cornflowerblue',size=15)\n",
    "\n",
    "err_xs = []\n",
    "err_ys = []\n",
    "\n",
    "for x, y, yerr in zip(ang_sim_stats.iter, ang_sim_stats.num_sim, ang_sim_stats.num_sim_sem):\n",
    "    err_xs.append((x, x))\n",
    "    err_ys.append((y - yerr, y + yerr))\n",
    "\n",
    "plot.multi_line(err_xs, err_ys, color='cornflowerblue',line_width=6)\n",
    "\n",
    "plot.xaxis.axis_label='Iteration'\n",
    "plot.xaxis.axis_label_text_font_size='32px'\n",
    "plot.xaxis.major_label_text_font_size='24px'\n",
    "\n",
    "plot.yaxis.axis_label='Similar-Different Angle Line Pairs'\n",
    "plot.yaxis.axis_label_text_font_size='32px'\n",
    "plot.yaxis.major_label_text_font_size='24px'\n",
    "\n",
    "plot.xgrid.grid_line_color = None\n",
    "plot.ygrid[0].ticker.desired_num_ticks = 4\n",
    "\n",
    "output_file('ang_sim.html')\n",
    "show(plot)"
   ]
  },
  {
   "cell_type": "markdown",
   "metadata": {},
   "source": [
    "# Compare subjects to models"
   ]
  },
  {
   "cell_type": "markdown",
   "metadata": {},
   "source": [
    "## Dispersion"
   ]
  },
  {
   "cell_type": "code",
   "execution_count": 12,
   "metadata": {
    "collapsed": true
   },
   "outputs": [],
   "source": [
    "data_names=['subj', 'isotropic_v1']"
   ]
  },
  {
   "cell_type": "code",
   "execution_count": 13,
   "metadata": {
    "collapsed": false
   },
   "outputs": [
    {
     "name": "stdout",
     "output_type": "stream",
     "text": [
      "subj_dispersion.csv\n",
      "isotropic_v1_dispersion.csv\n"
     ]
    },
    {
     "ename": "IOError",
     "evalue": "File figure_csv/isotropic_v1/isotropic_v1_dispersion.csv does not exist",
     "output_type": "error",
     "traceback": [
      "\u001b[0;31m---------------------------------------------------------------------------\u001b[0m",
      "\u001b[0;31mIOError\u001b[0m                                   Traceback (most recent call last)",
      "\u001b[0;32m<ipython-input-13-e25aa0d93cb4>\u001b[0m in \u001b[0;36m<module>\u001b[0;34m()\u001b[0m\n\u001b[1;32m      4\u001b[0m     \u001b[0mdisp_fname\u001b[0m\u001b[0;34m=\u001b[0m\u001b[0mdata\u001b[0m\u001b[0;34m+\u001b[0m\u001b[0;34m'_dispersion.csv'\u001b[0m\u001b[0;34m\u001b[0m\u001b[0m\n\u001b[1;32m      5\u001b[0m     \u001b[0;32mprint\u001b[0m \u001b[0mdisp_fname\u001b[0m\u001b[0;34m\u001b[0m\u001b[0m\n\u001b[0;32m----> 6\u001b[0;31m     \u001b[0mdispersion_df\u001b[0m\u001b[0;34m=\u001b[0m\u001b[0mpd\u001b[0m\u001b[0;34m.\u001b[0m\u001b[0mread_csv\u001b[0m\u001b[0;34m(\u001b[0m\u001b[0mos\u001b[0m\u001b[0;34m.\u001b[0m\u001b[0mpath\u001b[0m\u001b[0;34m.\u001b[0m\u001b[0mjoin\u001b[0m\u001b[0;34m(\u001b[0m\u001b[0mdata_fold\u001b[0m\u001b[0;34m,\u001b[0m\u001b[0mtype_fold\u001b[0m\u001b[0;34m,\u001b[0m\u001b[0mdisp_fname\u001b[0m\u001b[0;34m)\u001b[0m\u001b[0;34m)\u001b[0m\u001b[0;34m\u001b[0m\u001b[0m\n\u001b[0m\u001b[1;32m      7\u001b[0m     \u001b[0mdisperion_by_display\u001b[0m\u001b[0;34m=\u001b[0m\u001b[0mdispersion_df\u001b[0m\u001b[0;34m.\u001b[0m\u001b[0mloc\u001b[0m\u001b[0;34m[\u001b[0m\u001b[0;34m:\u001b[0m\u001b[0;34m,\u001b[0m\u001b[0;34m[\u001b[0m\u001b[0;34m'iter'\u001b[0m\u001b[0;34m,\u001b[0m \u001b[0;34m'disp'\u001b[0m\u001b[0;34m,\u001b[0m\u001b[0;34m'value'\u001b[0m\u001b[0;34m]\u001b[0m\u001b[0;34m]\u001b[0m\u001b[0;34m.\u001b[0m\u001b[0mgroupby\u001b[0m\u001b[0;34m(\u001b[0m\u001b[0;34m[\u001b[0m\u001b[0;34m'iter'\u001b[0m\u001b[0;34m,\u001b[0m\u001b[0;34m'disp'\u001b[0m\u001b[0;34m]\u001b[0m\u001b[0;34m)\u001b[0m\u001b[0;34m.\u001b[0m\u001b[0mmean\u001b[0m\u001b[0;34m(\u001b[0m\u001b[0;34m)\u001b[0m\u001b[0;34m.\u001b[0m\u001b[0mreset_index\u001b[0m\u001b[0;34m(\u001b[0m\u001b[0;34m)\u001b[0m\u001b[0;34m\u001b[0m\u001b[0m\n\u001b[1;32m      8\u001b[0m     \u001b[0mdispersion_by_iter\u001b[0m\u001b[0;34m=\u001b[0m\u001b[0mdisperion_by_display\u001b[0m\u001b[0;34m.\u001b[0m\u001b[0mloc\u001b[0m\u001b[0;34m[\u001b[0m\u001b[0;34m:\u001b[0m\u001b[0;34m,\u001b[0m\u001b[0;34m[\u001b[0m\u001b[0;34m'value'\u001b[0m\u001b[0;34m,\u001b[0m\u001b[0;34m'iter'\u001b[0m\u001b[0;34m]\u001b[0m\u001b[0;34m]\u001b[0m\u001b[0;34m.\u001b[0m\u001b[0mgroupby\u001b[0m\u001b[0;34m(\u001b[0m\u001b[0;34m'iter'\u001b[0m\u001b[0;34m)\u001b[0m\u001b[0;34m\u001b[0m\u001b[0m\n",
      "\u001b[0;32m/Users/timlew/anaconda/lib/python2.7/site-packages/pandas/io/parsers.pyc\u001b[0m in \u001b[0;36mparser_f\u001b[0;34m(filepath_or_buffer, sep, delimiter, header, names, index_col, usecols, squeeze, prefix, mangle_dupe_cols, dtype, engine, converters, true_values, false_values, skipinitialspace, skiprows, skipfooter, nrows, na_values, keep_default_na, na_filter, verbose, skip_blank_lines, parse_dates, infer_datetime_format, keep_date_col, date_parser, dayfirst, iterator, chunksize, compression, thousands, decimal, lineterminator, quotechar, quoting, escapechar, comment, encoding, dialect, tupleize_cols, error_bad_lines, warn_bad_lines, skip_footer, doublequote, delim_whitespace, as_recarray, compact_ints, use_unsigned, low_memory, buffer_lines, memory_map, float_precision)\u001b[0m\n\u001b[1;32m    527\u001b[0m                     skip_blank_lines=skip_blank_lines)\n\u001b[1;32m    528\u001b[0m \u001b[0;34m\u001b[0m\u001b[0m\n\u001b[0;32m--> 529\u001b[0;31m         \u001b[0;32mreturn\u001b[0m \u001b[0m_read\u001b[0m\u001b[0;34m(\u001b[0m\u001b[0mfilepath_or_buffer\u001b[0m\u001b[0;34m,\u001b[0m \u001b[0mkwds\u001b[0m\u001b[0;34m)\u001b[0m\u001b[0;34m\u001b[0m\u001b[0m\n\u001b[0m\u001b[1;32m    530\u001b[0m \u001b[0;34m\u001b[0m\u001b[0m\n\u001b[1;32m    531\u001b[0m     \u001b[0mparser_f\u001b[0m\u001b[0;34m.\u001b[0m\u001b[0m__name__\u001b[0m \u001b[0;34m=\u001b[0m \u001b[0mname\u001b[0m\u001b[0;34m\u001b[0m\u001b[0m\n",
      "\u001b[0;32m/Users/timlew/anaconda/lib/python2.7/site-packages/pandas/io/parsers.pyc\u001b[0m in \u001b[0;36m_read\u001b[0;34m(filepath_or_buffer, kwds)\u001b[0m\n\u001b[1;32m    293\u001b[0m \u001b[0;34m\u001b[0m\u001b[0m\n\u001b[1;32m    294\u001b[0m     \u001b[0;31m# Create the parser.\u001b[0m\u001b[0;34m\u001b[0m\u001b[0;34m\u001b[0m\u001b[0m\n\u001b[0;32m--> 295\u001b[0;31m     \u001b[0mparser\u001b[0m \u001b[0;34m=\u001b[0m \u001b[0mTextFileReader\u001b[0m\u001b[0;34m(\u001b[0m\u001b[0mfilepath_or_buffer\u001b[0m\u001b[0;34m,\u001b[0m \u001b[0;34m**\u001b[0m\u001b[0mkwds\u001b[0m\u001b[0;34m)\u001b[0m\u001b[0;34m\u001b[0m\u001b[0m\n\u001b[0m\u001b[1;32m    296\u001b[0m \u001b[0;34m\u001b[0m\u001b[0m\n\u001b[1;32m    297\u001b[0m     \u001b[0;32mif\u001b[0m \u001b[0;34m(\u001b[0m\u001b[0mnrows\u001b[0m \u001b[0;32mis\u001b[0m \u001b[0;32mnot\u001b[0m \u001b[0mNone\u001b[0m\u001b[0;34m)\u001b[0m \u001b[0;32mand\u001b[0m \u001b[0;34m(\u001b[0m\u001b[0mchunksize\u001b[0m \u001b[0;32mis\u001b[0m \u001b[0;32mnot\u001b[0m \u001b[0mNone\u001b[0m\u001b[0;34m)\u001b[0m\u001b[0;34m:\u001b[0m\u001b[0;34m\u001b[0m\u001b[0m\n",
      "\u001b[0;32m/Users/timlew/anaconda/lib/python2.7/site-packages/pandas/io/parsers.pyc\u001b[0m in \u001b[0;36m__init__\u001b[0;34m(self, f, engine, **kwds)\u001b[0m\n\u001b[1;32m    610\u001b[0m             \u001b[0mself\u001b[0m\u001b[0;34m.\u001b[0m\u001b[0moptions\u001b[0m\u001b[0;34m[\u001b[0m\u001b[0;34m'has_index_names'\u001b[0m\u001b[0;34m]\u001b[0m \u001b[0;34m=\u001b[0m \u001b[0mkwds\u001b[0m\u001b[0;34m[\u001b[0m\u001b[0;34m'has_index_names'\u001b[0m\u001b[0;34m]\u001b[0m\u001b[0;34m\u001b[0m\u001b[0m\n\u001b[1;32m    611\u001b[0m \u001b[0;34m\u001b[0m\u001b[0m\n\u001b[0;32m--> 612\u001b[0;31m         \u001b[0mself\u001b[0m\u001b[0;34m.\u001b[0m\u001b[0m_make_engine\u001b[0m\u001b[0;34m(\u001b[0m\u001b[0mself\u001b[0m\u001b[0;34m.\u001b[0m\u001b[0mengine\u001b[0m\u001b[0;34m)\u001b[0m\u001b[0;34m\u001b[0m\u001b[0m\n\u001b[0m\u001b[1;32m    613\u001b[0m \u001b[0;34m\u001b[0m\u001b[0m\n\u001b[1;32m    614\u001b[0m     \u001b[0;32mdef\u001b[0m \u001b[0m_get_options_with_defaults\u001b[0m\u001b[0;34m(\u001b[0m\u001b[0mself\u001b[0m\u001b[0;34m,\u001b[0m \u001b[0mengine\u001b[0m\u001b[0;34m)\u001b[0m\u001b[0;34m:\u001b[0m\u001b[0;34m\u001b[0m\u001b[0m\n",
      "\u001b[0;32m/Users/timlew/anaconda/lib/python2.7/site-packages/pandas/io/parsers.pyc\u001b[0m in \u001b[0;36m_make_engine\u001b[0;34m(self, engine)\u001b[0m\n\u001b[1;32m    745\u001b[0m     \u001b[0;32mdef\u001b[0m \u001b[0m_make_engine\u001b[0m\u001b[0;34m(\u001b[0m\u001b[0mself\u001b[0m\u001b[0;34m,\u001b[0m \u001b[0mengine\u001b[0m\u001b[0;34m=\u001b[0m\u001b[0;34m'c'\u001b[0m\u001b[0;34m)\u001b[0m\u001b[0;34m:\u001b[0m\u001b[0;34m\u001b[0m\u001b[0m\n\u001b[1;32m    746\u001b[0m         \u001b[0;32mif\u001b[0m \u001b[0mengine\u001b[0m \u001b[0;34m==\u001b[0m \u001b[0;34m'c'\u001b[0m\u001b[0;34m:\u001b[0m\u001b[0;34m\u001b[0m\u001b[0m\n\u001b[0;32m--> 747\u001b[0;31m             \u001b[0mself\u001b[0m\u001b[0;34m.\u001b[0m\u001b[0m_engine\u001b[0m \u001b[0;34m=\u001b[0m \u001b[0mCParserWrapper\u001b[0m\u001b[0;34m(\u001b[0m\u001b[0mself\u001b[0m\u001b[0;34m.\u001b[0m\u001b[0mf\u001b[0m\u001b[0;34m,\u001b[0m \u001b[0;34m**\u001b[0m\u001b[0mself\u001b[0m\u001b[0;34m.\u001b[0m\u001b[0moptions\u001b[0m\u001b[0;34m)\u001b[0m\u001b[0;34m\u001b[0m\u001b[0m\n\u001b[0m\u001b[1;32m    748\u001b[0m         \u001b[0;32melse\u001b[0m\u001b[0;34m:\u001b[0m\u001b[0;34m\u001b[0m\u001b[0m\n\u001b[1;32m    749\u001b[0m             \u001b[0;32mif\u001b[0m \u001b[0mengine\u001b[0m \u001b[0;34m==\u001b[0m \u001b[0;34m'python'\u001b[0m\u001b[0;34m:\u001b[0m\u001b[0;34m\u001b[0m\u001b[0m\n",
      "\u001b[0;32m/Users/timlew/anaconda/lib/python2.7/site-packages/pandas/io/parsers.pyc\u001b[0m in \u001b[0;36m__init__\u001b[0;34m(self, src, **kwds)\u001b[0m\n\u001b[1;32m   1117\u001b[0m         \u001b[0mkwds\u001b[0m\u001b[0;34m[\u001b[0m\u001b[0;34m'allow_leading_cols'\u001b[0m\u001b[0;34m]\u001b[0m \u001b[0;34m=\u001b[0m \u001b[0mself\u001b[0m\u001b[0;34m.\u001b[0m\u001b[0mindex_col\u001b[0m \u001b[0;32mis\u001b[0m \u001b[0;32mnot\u001b[0m \u001b[0mFalse\u001b[0m\u001b[0;34m\u001b[0m\u001b[0m\n\u001b[1;32m   1118\u001b[0m \u001b[0;34m\u001b[0m\u001b[0m\n\u001b[0;32m-> 1119\u001b[0;31m         \u001b[0mself\u001b[0m\u001b[0;34m.\u001b[0m\u001b[0m_reader\u001b[0m \u001b[0;34m=\u001b[0m \u001b[0m_parser\u001b[0m\u001b[0;34m.\u001b[0m\u001b[0mTextReader\u001b[0m\u001b[0;34m(\u001b[0m\u001b[0msrc\u001b[0m\u001b[0;34m,\u001b[0m \u001b[0;34m**\u001b[0m\u001b[0mkwds\u001b[0m\u001b[0;34m)\u001b[0m\u001b[0;34m\u001b[0m\u001b[0m\n\u001b[0m\u001b[1;32m   1120\u001b[0m \u001b[0;34m\u001b[0m\u001b[0m\n\u001b[1;32m   1121\u001b[0m         \u001b[0;31m# XXX\u001b[0m\u001b[0;34m\u001b[0m\u001b[0;34m\u001b[0m\u001b[0m\n",
      "\u001b[0;32mpandas/parser.pyx\u001b[0m in \u001b[0;36mpandas.parser.TextReader.__cinit__ (pandas/parser.c:3246)\u001b[0;34m()\u001b[0m\n",
      "\u001b[0;32mpandas/parser.pyx\u001b[0m in \u001b[0;36mpandas.parser.TextReader._setup_parser_source (pandas/parser.c:6111)\u001b[0;34m()\u001b[0m\n",
      "\u001b[0;31mIOError\u001b[0m: File figure_csv/isotropic_v1/isotropic_v1_dispersion.csv does not exist"
     ]
    }
   ],
   "source": [
    "model_dispersion_df=[]\n",
    "for data in data_names:\n",
    "    type_fold=data\n",
    "    disp_fname=data+'_dispersion.csv'\n",
    "    print disp_fname\n",
    "    dispersion_df=pd.read_csv(os.path.join(data_fold,type_fold,disp_fname))\n",
    "    disperion_by_display=dispersion_df.loc[:,['iter', 'disp','value']].groupby(['iter','disp']).mean().reset_index()\n",
    "    dispersion_by_iter=disperion_by_display.loc[:,['value','iter']].groupby('iter')\n",
    "\n",
    "    dispersion_mean=dispersion_by_iter.mean().reset_index()\n",
    "    dispersion_std=dispersion_by_iter.std()\n",
    "    dispersion_num=dispersion_by_iter.size()\n",
    "    dispersion_sem=pd.DataFrame(np.divide(dispersion_std.value,np.sqrt(dispersion_num))).reset_index()\n",
    "    dispersion_sem.columns=['iter','dispersion_sem']\n",
    "    dispersion_stats=pd.merge(dispersion_mean,dispersion_sem,on='iter')\n",
    "    dispersion_stats.columns=['iter','dispersion','dispersion_sem']\n",
    "    model_dispersion_df.append(dispersion_stats)"
   ]
  },
  {
   "cell_type": "code",
   "execution_count": 14,
   "metadata": {
    "collapsed": true
   },
   "outputs": [],
   "source": [
    "subj_dispersion_data=model_dispersion_df[0]\n",
    "mod_dispersion_data=model_dispersion_df[1:]"
   ]
  },
  {
   "cell_type": "code",
   "execution_count": 15,
   "metadata": {
    "collapsed": false
   },
   "outputs": [],
   "source": [
    "curr_mod_data=mod_dispersion_data[0]\n",
    "\n",
    "plot = figure(width=650, height=600,x_range=Range1d(5, 6.35), y_range=Range1d(5, 6.35))\n",
    "\n",
    "\n",
    "plot.line(x=[5,6.35],y=[5,6.35],color='grey',line_width=6,line_dash=[20, 20])\n",
    "plot.scatter(x=subj_dispersion_data.dispersion,y=curr_mod_data.dispersion,color='firebrick',size=12)\n",
    "\n",
    "err_xs = []\n",
    "err_ys = []\n",
    "\n",
    "for x, y, yerr in zip(subj_dispersion_data.dispersion, curr_mod_data.dispersion, curr_mod_data.dispersion_sem):\n",
    "    err_xs.append((x, x))\n",
    "    err_ys.append((y - yerr, y + yerr))\n",
    "\n",
    "plot.multi_line(err_xs, err_ys, color='firebrick',line_width=6)\n",
    "\n",
    "plot.xaxis.axis_label='Participant Dispersion'\n",
    "plot.xaxis.axis_label_text_font_size='32px'\n",
    "plot.xaxis.major_label_text_font_size='24px'\n",
    "\n",
    "plot.yaxis.axis_label='Isotropic Dispersion'\n",
    "plot.yaxis.axis_label_text_font_size='32px'\n",
    "plot.yaxis.major_label_text_font_size='24px'\n",
    "\n",
    "plot.xgrid.grid_line_color = None\n",
    "\n",
    "output_file('subj_mod_dispersion.html')\n",
    "show(plot)"
   ]
  },
  {
   "cell_type": "markdown",
   "metadata": {},
   "source": [
    "## Line proportion"
   ]
  },
  {
   "cell_type": "code",
   "execution_count": 14,
   "metadata": {
    "collapsed": true
   },
   "outputs": [],
   "source": [
    "data_names=['subj', 'isotropic_v1','anisotropic_v1','line_v1','line_hierarchy_v1']\n",
    "data_names=['subj','line_v1','line_hierarchy_v1']"
   ]
  },
  {
   "cell_type": "code",
   "execution_count": 15,
   "metadata": {
    "collapsed": false
   },
   "outputs": [
    {
     "name": "stdout",
     "output_type": "stream",
     "text": [
      "subj_line_proportion.csv\n",
      "line_v1_line_proportion.csv\n",
      "line_hierarchy_v1_line_proportion.csv\n"
     ]
    }
   ],
   "source": [
    "model_line_proportion_df=[]\n",
    "for data in data_names:\n",
    "    type_fold=data\n",
    "    disp_fname=data+'_line_proportion.csv'\n",
    "    print disp_fname\n",
    "    line_df=pd.read_csv(os.path.join(data_fold,type_fold,disp_fname))\n",
    "    line_by_display=line_df.loc[:,['iter', 'disp','value']].groupby(['iter','disp']).mean().reset_index()\n",
    "    line_by_iter=line_by_display.loc[:,['value','iter']].groupby('iter')\n",
    "\n",
    "    line_mean=line_by_iter.mean().reset_index()\n",
    "    line_std=line_by_iter.std()\n",
    "    line_num=line_by_iter.size()\n",
    "    line_sem=pd.DataFrame(np.divide(line_std.value,np.sqrt(line_num))).reset_index()\n",
    "    line_sem.columns=['iter','line_sem']\n",
    "    line_stats=pd.merge(line_mean,line_sem,on='iter')\n",
    "    line_stats.columns=['iter','line','line_sem']\n",
    "    model_line_proportion_df.append(line_stats)"
   ]
  },
  {
   "cell_type": "code",
   "execution_count": 16,
   "metadata": {
    "collapsed": true
   },
   "outputs": [],
   "source": [
    "subj_line_data=model_line_proportion_df[0]\n",
    "mod_line_data=model_line_proportion_df[1:]\n",
    "# mod_names=['Isotropic','Anisotropic','Line','Line Hierarchy']\n",
    "mod_names=['Line','Line Hierarchy']"
   ]
  },
  {
   "cell_type": "code",
   "execution_count": 17,
   "metadata": {
    "collapsed": false
   },
   "outputs": [],
   "source": [
    "line_plots=[]\n",
    "for curr_mod_data,curr_mod_name in zip(mod_line_data,mod_names):\n",
    "\n",
    "\n",
    "    plot = figure(width=650, height=600,x_range=Range1d(0, .2), y_range=Range1d(0, .2))\n",
    "\n",
    "    plot.line(x=[0,.2],y=[0,.2],color='grey',line_width=6,line_dash=[20, 20])\n",
    "    plot.scatter(x=subj_line_data.line,y=curr_mod_data.line,color='firebrick',size=12)\n",
    "\n",
    "    err_xs = []\n",
    "    err_ys = []\n",
    "\n",
    "    for x, y, yerr in zip(subj_line_data.line, curr_mod_data.line, curr_mod_data.line_sem):\n",
    "        err_xs.append((x, x))\n",
    "        err_ys.append((y - yerr, y + yerr))\n",
    "\n",
    "    plot.multi_line(err_xs, err_ys, color='firebrick',line_width=6)\n",
    "\n",
    "    plot.xaxis.axis_label='Participant Line Proportion'\n",
    "    plot.xaxis.axis_label_text_font_size='32px'\n",
    "    plot.xaxis.major_label_text_font_size='24px'\n",
    "\n",
    "    plot.yaxis.axis_label=curr_mod_name+' Model Line Proportion'\n",
    "    plot.yaxis.axis_label_text_font_size='32px'\n",
    "    plot.yaxis.major_label_text_font_size='24px'\n",
    "\n",
    "    plot.xgrid.grid_line_color = None\n",
    "    line_plots.append(plot)\n",
    "\n",
    "grid_line_plots=gridplot([line_plots])\n",
    "output_file('subj_mod_line.html')\n",
    "show(grid_line_plots)"
   ]
  },
  {
   "cell_type": "code",
   "execution_count": 20,
   "metadata": {
    "collapsed": false
   },
   "outputs": [
    {
     "data": {
      "text/plain": [
       "[<bokeh.plotting.figure.Figure at 0x117716d10>,\n",
       " <bokeh.plotting.figure.Figure at 0x117712650>,\n",
       " <bokeh.plotting.figure.Figure at 0x117712d10>,\n",
       " <bokeh.plotting.figure.Figure at 0x11772a610>]"
      ]
     },
     "execution_count": 20,
     "metadata": {},
     "output_type": "execute_result"
    }
   ],
   "source": [
    "line_plots"
   ]
  },
  {
   "cell_type": "markdown",
   "metadata": {
    "collapsed": true
   },
   "source": [
    "# Line length similarity"
   ]
  },
  {
   "cell_type": "code",
   "execution_count": 18,
   "metadata": {
    "collapsed": true
   },
   "outputs": [],
   "source": [
    "data_names=['subj','line_v1','line_hierarchy_v1']"
   ]
  },
  {
   "cell_type": "code",
   "execution_count": 19,
   "metadata": {
    "collapsed": false
   },
   "outputs": [
    {
     "name": "stdout",
     "output_type": "stream",
     "text": [
      "subj_len_sim.csv\n",
      "line_v1_len_sim.csv\n",
      "line_hierarchy_v1_len_sim.csv\n"
     ]
    }
   ],
   "source": [
    "model_len_sim_df=[]\n",
    "for data in data_names:\n",
    "    type_fold=data\n",
    "    disp_fname=data+'_len_sim.csv'\n",
    "    print disp_fname\n",
    "    len_df=pd.read_csv(os.path.join(data_fold,type_fold,disp_fname))\n",
    "    len_by_display=len_df.loc[:,['iter', 'disp','value']].groupby(['iter','disp']).mean().reset_index()\n",
    "    len_by_iter=len_by_display.loc[:,['value','iter']].groupby('iter')\n",
    "\n",
    "    len_mean=len_by_iter.mean().reset_index()\n",
    "    len_std=len_by_iter.std()\n",
    "    len_num=len_by_iter.size()\n",
    "    len_sem=pd.DataFrame(np.divide(len_std.value,np.sqrt(len_num))).reset_index()\n",
    "    len_sem.columns=['iter','len_sem']\n",
    "    len_stats=pd.merge(len_mean,len_sem,on='iter')\n",
    "    len_stats.columns=['iter','len_sim','len_sim_sem']\n",
    "    model_len_sim_df.append(len_stats)"
   ]
  },
  {
   "cell_type": "code",
   "execution_count": 20,
   "metadata": {
    "collapsed": true
   },
   "outputs": [],
   "source": [
    "subj_len_sim_data=model_len_sim_df[0]\n",
    "mod_len_sim_data=model_len_sim_df[1:]\n",
    "mod_names=['Line','Hierarchical']"
   ]
  },
  {
   "cell_type": "code",
   "execution_count": 21,
   "metadata": {
    "collapsed": false
   },
   "outputs": [],
   "source": [
    "line_plots=[]\n",
    "for curr_mod_data,curr_mod_name in zip(mod_len_sim_data,mod_names):\n",
    "\n",
    "\n",
    "#    plot = figure(width=650, height=600,x_range=Range1d(0, .2), y_range=Range1d(0, .2))\n",
    "    plot = figure(width=650, height=600)\n",
    "\n",
    "    plot.line(x=[0,.2],y=[0,.2],color='grey',line_width=6,line_dash=[20, 20])\n",
    "    plot.scatter(x=subj_len_sim_data.len_sim,y=curr_mod_data.len_sim,color='firebrick',size=12)\n",
    "\n",
    "    err_xs = []\n",
    "    err_ys = []\n",
    "\n",
    "    for x, y, yerr in zip(subj_len_sim_data.len_sim, curr_mod_data.len_sim, curr_mod_data.len_sim_sem):\n",
    "        err_xs.append((x, x))\n",
    "        err_ys.append((y - yerr, y + yerr))\n",
    "\n",
    "    plot.multi_line(err_xs, err_ys, color='firebrick',line_width=6)\n",
    "\n",
    "    plot.xaxis.axis_label='Participant Length Similarity'\n",
    "    plot.xaxis.axis_label_text_font_size='32px'\n",
    "    plot.xaxis.major_label_text_font_size='24px'\n",
    "\n",
    "    plot.yaxis.axis_label=curr_mod_name+' Model Length Similarity'\n",
    "    plot.yaxis.axis_label_text_font_size='32px'\n",
    "    plot.yaxis.major_label_text_font_size='24px'\n",
    "\n",
    "    plot.xgrid.grid_line_color = None\n",
    "    line_plots.append(plot)\n",
    "\n",
    "grid_line_plots=gridplot([line_plots])\n",
    "output_file('subj_mod_len_sim.html')\n",
    "show(grid_line_plots)"
   ]
  },
  {
   "cell_type": "markdown",
   "metadata": {
    "collapsed": true
   },
   "source": [
    "# Line angle similarity"
   ]
  },
  {
   "cell_type": "code",
   "execution_count": 22,
   "metadata": {
    "collapsed": true
   },
   "outputs": [],
   "source": [
    "data_names=['subj','line_v1','line_hierarchy_v1']"
   ]
  },
  {
   "cell_type": "code",
   "execution_count": 23,
   "metadata": {
    "collapsed": false
   },
   "outputs": [
    {
     "name": "stdout",
     "output_type": "stream",
     "text": [
      "subj_ang_sim.csv\n",
      "line_v1_ang_sim.csv\n",
      "line_hierarchy_v1_ang_sim.csv\n"
     ]
    }
   ],
   "source": [
    "model_ang_sim_df=[]\n",
    "for data in data_names:\n",
    "    type_fold=data\n",
    "    disp_fname=data+'_ang_sim.csv'\n",
    "    print disp_fname\n",
    "    ang_df=pd.read_csv(os.path.join(data_fold,type_fold,disp_fname))\n",
    "    ang_by_display=ang_df.loc[:,['iter', 'disp','value']].groupby(['iter','disp']).mean().reset_index()\n",
    "    ang_by_iter=ang_by_display.loc[:,['value','iter']].groupby('iter')\n",
    "\n",
    "    ang_mean=ang_by_iter.mean().reset_index()\n",
    "    ang_std=ang_by_iter.std()\n",
    "    ang_num=ang_by_iter.size()\n",
    "    ang_sem=pd.DataFrame(np.divide(ang_std.value,np.sqrt(ang_num))).reset_index()\n",
    "    ang_sem.columns=['iter','ang_sem']\n",
    "    ang_stats=pd.merge(ang_mean,ang_sem,on='iter')\n",
    "    ang_stats.columns=['iter','ang_sim','ang_sim_sem']\n",
    "    model_ang_sim_df.append(ang_stats)"
   ]
  },
  {
   "cell_type": "code",
   "execution_count": 24,
   "metadata": {
    "collapsed": true
   },
   "outputs": [],
   "source": [
    "subj_ang_sim_data=model_ang_sim_df[0]\n",
    "mod_ang_sim_data=model_ang_sim_df[1:]\n",
    "mod_names=['Line','Hierarchical']"
   ]
  },
  {
   "cell_type": "code",
   "execution_count": 25,
   "metadata": {
    "collapsed": false
   },
   "outputs": [],
   "source": [
    "line_plots=[]\n",
    "for curr_mod_data,curr_mod_name in zip(mod_ang_sim_data,mod_names):\n",
    "\n",
    "\n",
    "#    plot = figure(width=650, height=600,x_range=Range1d(0, .2), y_range=Range1d(0, .2))\n",
    "    plot = figure(width=650, height=600)\n",
    "\n",
    "    plot.line(x=[0,.2],y=[0,.2],color='grey',line_width=6,line_dash=[20, 20])\n",
    "    plot.scatter(x=subj_ang_sim_data.ang_sim,y=curr_mod_data.ang_sim,color='firebrick',size=12)\n",
    "\n",
    "    err_xs = []\n",
    "    err_ys = []\n",
    "\n",
    "    for x, y, yerr in zip(subj_ang_sim_data.ang_sim, curr_mod_data.ang_sim, curr_mod_data.ang_sim_sem):\n",
    "        err_xs.append((x, x))\n",
    "        err_ys.append((y - yerr, y + yerr))\n",
    "\n",
    "    plot.multi_line(err_xs, err_ys, color='firebrick',line_width=6)\n",
    "\n",
    "    plot.xaxis.axis_label='Participant Angle Similarity'\n",
    "    plot.xaxis.axis_label_text_font_size='32px'\n",
    "    plot.xaxis.major_label_text_font_size='24px'\n",
    "\n",
    "    plot.yaxis.axis_label=curr_mod_name+' Model Angle Similarity'\n",
    "    plot.yaxis.axis_label_text_font_size='32px'\n",
    "    plot.yaxis.major_label_text_font_size='24px'\n",
    "\n",
    "    plot.xgrid.grid_line_color = None\n",
    "    line_plots.append(plot)\n",
    "\n",
    "grid_line_plots=gridplot([line_plots])\n",
    "output_file('subj_mod_ang_sim.html')\n",
    "show(grid_line_plots)"
   ]
  },
  {
   "cell_type": "markdown",
   "metadata": {
    "collapsed": true
   },
   "source": [
    "# Proportion based analysis"
   ]
  },
  {
   "cell_type": "code",
   "execution_count": 26,
   "metadata": {
    "collapsed": true
   },
   "outputs": [],
   "source": [
    "data_names=['subj','line_v1','line_hierarchy_v1']\n",
    "data_names=['subj','line_hierarchy_v1']"
   ]
  },
  {
   "cell_type": "code",
   "execution_count": 27,
   "metadata": {
    "collapsed": false
   },
   "outputs": [
    {
     "name": "stdout",
     "output_type": "stream",
     "text": [
      "subj_ang_sim_prop.csv\n",
      "line_hierarchy_v1_ang_sim_prop.csv\n"
     ]
    }
   ],
   "source": [
    "model_ang_sim_df=[]\n",
    "for data in data_names:\n",
    "    type_fold=data\n",
    "    disp_fname=data+'_ang_sim_prop.csv'\n",
    "    print disp_fname\n",
    "    ang_df=pd.read_csv(os.path.join(data_fold,type_fold,disp_fname))\n",
    "    ang_by_display=ang_df.loc[:,['iter', 'disp','value']].groupby(['iter','disp']).mean().reset_index()\n",
    "    ang_by_iter=ang_by_display.loc[:,['value','iter']].groupby('iter')\n",
    "\n",
    "    ang_mean=ang_by_iter.mean().reset_index()\n",
    "    ang_std=ang_by_iter.std()\n",
    "    ang_num=ang_by_iter.size()\n",
    "    ang_sem=pd.DataFrame(np.divide(ang_std.value,np.sqrt(ang_num))).reset_index()\n",
    "    ang_sem.columns=['iter','ang_sem']\n",
    "    ang_stats=pd.merge(ang_mean,ang_sem,on='iter')\n",
    "    ang_stats.columns=['iter','ang_sim','ang_sim_sem']\n",
    "    model_ang_sim_df.append(ang_stats)"
   ]
  },
  {
   "cell_type": "code",
   "execution_count": 28,
   "metadata": {
    "collapsed": false
   },
   "outputs": [
    {
     "data": {
      "text/html": [
       "<div>\n",
       "<table border=\"1\" class=\"dataframe\">\n",
       "  <thead>\n",
       "    <tr style=\"text-align: right;\">\n",
       "      <th></th>\n",
       "      <th>len_sim</th>\n",
       "      <th>iter</th>\n",
       "      <th>value_x</th>\n",
       "      <th>value_y</th>\n",
       "      <th>sim_prop</th>\n",
       "    </tr>\n",
       "  </thead>\n",
       "  <tbody>\n",
       "    <tr>\n",
       "      <th>1</th>\n",
       "      <td>True</td>\n",
       "      <td>1</td>\n",
       "      <td>4</td>\n",
       "      <td>8</td>\n",
       "      <td>0.500000</td>\n",
       "    </tr>\n",
       "    <tr>\n",
       "      <th>3</th>\n",
       "      <td>True</td>\n",
       "      <td>2</td>\n",
       "      <td>6</td>\n",
       "      <td>12</td>\n",
       "      <td>0.500000</td>\n",
       "    </tr>\n",
       "    <tr>\n",
       "      <th>5</th>\n",
       "      <td>True</td>\n",
       "      <td>3</td>\n",
       "      <td>8</td>\n",
       "      <td>18</td>\n",
       "      <td>0.444444</td>\n",
       "    </tr>\n",
       "    <tr>\n",
       "      <th>7</th>\n",
       "      <td>True</td>\n",
       "      <td>4</td>\n",
       "      <td>8</td>\n",
       "      <td>18</td>\n",
       "      <td>0.444444</td>\n",
       "    </tr>\n",
       "    <tr>\n",
       "      <th>9</th>\n",
       "      <td>True</td>\n",
       "      <td>5</td>\n",
       "      <td>10</td>\n",
       "      <td>20</td>\n",
       "      <td>0.500000</td>\n",
       "    </tr>\n",
       "    <tr>\n",
       "      <th>11</th>\n",
       "      <td>True</td>\n",
       "      <td>6</td>\n",
       "      <td>14</td>\n",
       "      <td>28</td>\n",
       "      <td>0.500000</td>\n",
       "    </tr>\n",
       "    <tr>\n",
       "      <th>13</th>\n",
       "      <td>True</td>\n",
       "      <td>7</td>\n",
       "      <td>18</td>\n",
       "      <td>38</td>\n",
       "      <td>0.473684</td>\n",
       "    </tr>\n",
       "    <tr>\n",
       "      <th>15</th>\n",
       "      <td>True</td>\n",
       "      <td>8</td>\n",
       "      <td>26</td>\n",
       "      <td>48</td>\n",
       "      <td>0.541667</td>\n",
       "    </tr>\n",
       "    <tr>\n",
       "      <th>17</th>\n",
       "      <td>True</td>\n",
       "      <td>9</td>\n",
       "      <td>26</td>\n",
       "      <td>46</td>\n",
       "      <td>0.565217</td>\n",
       "    </tr>\n",
       "    <tr>\n",
       "      <th>19</th>\n",
       "      <td>True</td>\n",
       "      <td>10</td>\n",
       "      <td>24</td>\n",
       "      <td>48</td>\n",
       "      <td>0.500000</td>\n",
       "    </tr>\n",
       "    <tr>\n",
       "      <th>21</th>\n",
       "      <td>True</td>\n",
       "      <td>11</td>\n",
       "      <td>22</td>\n",
       "      <td>48</td>\n",
       "      <td>0.458333</td>\n",
       "    </tr>\n",
       "    <tr>\n",
       "      <th>23</th>\n",
       "      <td>True</td>\n",
       "      <td>12</td>\n",
       "      <td>30</td>\n",
       "      <td>64</td>\n",
       "      <td>0.468750</td>\n",
       "    </tr>\n",
       "    <tr>\n",
       "      <th>25</th>\n",
       "      <td>True</td>\n",
       "      <td>13</td>\n",
       "      <td>40</td>\n",
       "      <td>78</td>\n",
       "      <td>0.512821</td>\n",
       "    </tr>\n",
       "    <tr>\n",
       "      <th>27</th>\n",
       "      <td>True</td>\n",
       "      <td>14</td>\n",
       "      <td>52</td>\n",
       "      <td>98</td>\n",
       "      <td>0.530612</td>\n",
       "    </tr>\n",
       "    <tr>\n",
       "      <th>29</th>\n",
       "      <td>True</td>\n",
       "      <td>15</td>\n",
       "      <td>56</td>\n",
       "      <td>106</td>\n",
       "      <td>0.528302</td>\n",
       "    </tr>\n",
       "    <tr>\n",
       "      <th>31</th>\n",
       "      <td>True</td>\n",
       "      <td>16</td>\n",
       "      <td>58</td>\n",
       "      <td>108</td>\n",
       "      <td>0.537037</td>\n",
       "    </tr>\n",
       "    <tr>\n",
       "      <th>33</th>\n",
       "      <td>True</td>\n",
       "      <td>17</td>\n",
       "      <td>52</td>\n",
       "      <td>110</td>\n",
       "      <td>0.472727</td>\n",
       "    </tr>\n",
       "    <tr>\n",
       "      <th>35</th>\n",
       "      <td>True</td>\n",
       "      <td>18</td>\n",
       "      <td>56</td>\n",
       "      <td>116</td>\n",
       "      <td>0.482759</td>\n",
       "    </tr>\n",
       "  </tbody>\n",
       "</table>\n",
       "</div>"
      ],
      "text/plain": [
       "   len_sim  iter  value_x  value_y  sim_prop\n",
       "1     True     1        4        8  0.500000\n",
       "3     True     2        6       12  0.500000\n",
       "5     True     3        8       18  0.444444\n",
       "7     True     4        8       18  0.444444\n",
       "9     True     5       10       20  0.500000\n",
       "11    True     6       14       28  0.500000\n",
       "13    True     7       18       38  0.473684\n",
       "15    True     8       26       48  0.541667\n",
       "17    True     9       26       46  0.565217\n",
       "19    True    10       24       48  0.500000\n",
       "21    True    11       22       48  0.458333\n",
       "23    True    12       30       64  0.468750\n",
       "25    True    13       40       78  0.512821\n",
       "27    True    14       52       98  0.530612\n",
       "29    True    15       56      106  0.528302\n",
       "31    True    16       58      108  0.537037\n",
       "33    True    17       52      110  0.472727\n",
       "35    True    18       56      116  0.482759"
      ]
     },
     "execution_count": 28,
     "metadata": {},
     "output_type": "execute_result"
    }
   ],
   "source": [
    "num_pairs=ang_df.loc[:,['iter','value']].groupby(['iter']).sum().reset_index() # find total counts\n",
    "ang_df.loc[:,'len_sim']=ang_df.cat<=2 # find similar line pairs\n",
    "sim_ang=ang_df.loc[:,['value','len_sim','iter']].groupby(['len_sim','iter']).sum().reset_index() # count number of line pairs\n",
    "sim_ang2=pd.merge(sim_ang,num_pairs,on='iter') # match to total count in that iteration\n",
    "sim_ang2.loc[:,'sim_prop']=sim_ang2.loc[:,'value_x']/sim_ang2.loc[:,'value_y']# normalize\n",
    "sim_ang2.loc[sim_ang2.len_sim,:]"
   ]
  },
  {
   "cell_type": "code",
   "execution_count": 29,
   "metadata": {
    "collapsed": false
   },
   "outputs": [
    {
     "data": {
      "text/html": [
       "<div>\n",
       "<table border=\"1\" class=\"dataframe\">\n",
       "  <thead>\n",
       "    <tr style=\"text-align: right;\">\n",
       "      <th></th>\n",
       "      <th>len_sim</th>\n",
       "      <th>iter</th>\n",
       "      <th>value_x</th>\n",
       "      <th>value_y</th>\n",
       "      <th>sim_prop</th>\n",
       "    </tr>\n",
       "  </thead>\n",
       "  <tbody>\n",
       "    <tr>\n",
       "      <th>1</th>\n",
       "      <td>True</td>\n",
       "      <td>1</td>\n",
       "      <td>4</td>\n",
       "      <td>8</td>\n",
       "      <td>0.500000</td>\n",
       "    </tr>\n",
       "    <tr>\n",
       "      <th>3</th>\n",
       "      <td>True</td>\n",
       "      <td>2</td>\n",
       "      <td>6</td>\n",
       "      <td>12</td>\n",
       "      <td>0.500000</td>\n",
       "    </tr>\n",
       "    <tr>\n",
       "      <th>5</th>\n",
       "      <td>True</td>\n",
       "      <td>3</td>\n",
       "      <td>8</td>\n",
       "      <td>18</td>\n",
       "      <td>0.444444</td>\n",
       "    </tr>\n",
       "    <tr>\n",
       "      <th>7</th>\n",
       "      <td>True</td>\n",
       "      <td>4</td>\n",
       "      <td>8</td>\n",
       "      <td>18</td>\n",
       "      <td>0.444444</td>\n",
       "    </tr>\n",
       "    <tr>\n",
       "      <th>9</th>\n",
       "      <td>True</td>\n",
       "      <td>5</td>\n",
       "      <td>10</td>\n",
       "      <td>20</td>\n",
       "      <td>0.500000</td>\n",
       "    </tr>\n",
       "    <tr>\n",
       "      <th>11</th>\n",
       "      <td>True</td>\n",
       "      <td>6</td>\n",
       "      <td>14</td>\n",
       "      <td>28</td>\n",
       "      <td>0.500000</td>\n",
       "    </tr>\n",
       "    <tr>\n",
       "      <th>13</th>\n",
       "      <td>True</td>\n",
       "      <td>7</td>\n",
       "      <td>18</td>\n",
       "      <td>38</td>\n",
       "      <td>0.473684</td>\n",
       "    </tr>\n",
       "    <tr>\n",
       "      <th>15</th>\n",
       "      <td>True</td>\n",
       "      <td>8</td>\n",
       "      <td>26</td>\n",
       "      <td>48</td>\n",
       "      <td>0.541667</td>\n",
       "    </tr>\n",
       "    <tr>\n",
       "      <th>17</th>\n",
       "      <td>True</td>\n",
       "      <td>9</td>\n",
       "      <td>26</td>\n",
       "      <td>46</td>\n",
       "      <td>0.565217</td>\n",
       "    </tr>\n",
       "    <tr>\n",
       "      <th>19</th>\n",
       "      <td>True</td>\n",
       "      <td>10</td>\n",
       "      <td>24</td>\n",
       "      <td>48</td>\n",
       "      <td>0.500000</td>\n",
       "    </tr>\n",
       "    <tr>\n",
       "      <th>21</th>\n",
       "      <td>True</td>\n",
       "      <td>11</td>\n",
       "      <td>22</td>\n",
       "      <td>48</td>\n",
       "      <td>0.458333</td>\n",
       "    </tr>\n",
       "    <tr>\n",
       "      <th>23</th>\n",
       "      <td>True</td>\n",
       "      <td>12</td>\n",
       "      <td>30</td>\n",
       "      <td>64</td>\n",
       "      <td>0.468750</td>\n",
       "    </tr>\n",
       "    <tr>\n",
       "      <th>25</th>\n",
       "      <td>True</td>\n",
       "      <td>13</td>\n",
       "      <td>40</td>\n",
       "      <td>78</td>\n",
       "      <td>0.512821</td>\n",
       "    </tr>\n",
       "    <tr>\n",
       "      <th>27</th>\n",
       "      <td>True</td>\n",
       "      <td>14</td>\n",
       "      <td>52</td>\n",
       "      <td>98</td>\n",
       "      <td>0.530612</td>\n",
       "    </tr>\n",
       "    <tr>\n",
       "      <th>29</th>\n",
       "      <td>True</td>\n",
       "      <td>15</td>\n",
       "      <td>56</td>\n",
       "      <td>106</td>\n",
       "      <td>0.528302</td>\n",
       "    </tr>\n",
       "    <tr>\n",
       "      <th>31</th>\n",
       "      <td>True</td>\n",
       "      <td>16</td>\n",
       "      <td>58</td>\n",
       "      <td>108</td>\n",
       "      <td>0.537037</td>\n",
       "    </tr>\n",
       "    <tr>\n",
       "      <th>33</th>\n",
       "      <td>True</td>\n",
       "      <td>17</td>\n",
       "      <td>52</td>\n",
       "      <td>110</td>\n",
       "      <td>0.472727</td>\n",
       "    </tr>\n",
       "    <tr>\n",
       "      <th>35</th>\n",
       "      <td>True</td>\n",
       "      <td>18</td>\n",
       "      <td>56</td>\n",
       "      <td>116</td>\n",
       "      <td>0.482759</td>\n",
       "    </tr>\n",
       "  </tbody>\n",
       "</table>\n",
       "</div>"
      ],
      "text/plain": [
       "   len_sim  iter  value_x  value_y  sim_prop\n",
       "1     True     1        4        8  0.500000\n",
       "3     True     2        6       12  0.500000\n",
       "5     True     3        8       18  0.444444\n",
       "7     True     4        8       18  0.444444\n",
       "9     True     5       10       20  0.500000\n",
       "11    True     6       14       28  0.500000\n",
       "13    True     7       18       38  0.473684\n",
       "15    True     8       26       48  0.541667\n",
       "17    True     9       26       46  0.565217\n",
       "19    True    10       24       48  0.500000\n",
       "21    True    11       22       48  0.458333\n",
       "23    True    12       30       64  0.468750\n",
       "25    True    13       40       78  0.512821\n",
       "27    True    14       52       98  0.530612\n",
       "29    True    15       56      106  0.528302\n",
       "31    True    16       58      108  0.537037\n",
       "33    True    17       52      110  0.472727\n",
       "35    True    18       56      116  0.482759"
      ]
     },
     "execution_count": 29,
     "metadata": {},
     "output_type": "execute_result"
    }
   ],
   "source": [
    "num_pairs=ang_df.loc[:,['iter','value']].groupby(['iter']).sum().reset_index() # find total counts\n",
    "ang_df.loc[:,'len_sim']=ang_df.cat<=2 # find similar line pairs\n",
    "sim_ang=ang_df.loc[:,['value','len_sim','iter']].groupby(['len_sim','iter']).sum().reset_index() # count number of line pairs\n",
    "sim_ang2=pd.merge(sim_ang,num_pairs,on='iter') # match to total count in that iteration\n",
    "sim_ang2.loc[:,'sim_prop']=sim_ang2.loc[:,'value_x']/sim_ang2.loc[:,'value_y']# normalize\n",
    "sim_ang2.loc[sim_ang2.len_sim,:]"
   ]
  },
  {
   "cell_type": "code",
   "execution_count": 27,
   "metadata": {
    "collapsed": false
   },
   "outputs": [
    {
     "data": {
      "text/html": [
       "<div>\n",
       "<table border=\"1\" class=\"dataframe\">\n",
       "  <thead>\n",
       "    <tr style=\"text-align: right;\">\n",
       "      <th></th>\n",
       "      <th>iter</th>\n",
       "      <th>value</th>\n",
       "    </tr>\n",
       "  </thead>\n",
       "  <tbody>\n",
       "    <tr>\n",
       "      <th>0</th>\n",
       "      <td>1</td>\n",
       "      <td>4</td>\n",
       "    </tr>\n",
       "    <tr>\n",
       "      <th>1</th>\n",
       "      <td>2</td>\n",
       "      <td>4</td>\n",
       "    </tr>\n",
       "    <tr>\n",
       "      <th>2</th>\n",
       "      <td>3</td>\n",
       "      <td>6</td>\n",
       "    </tr>\n",
       "    <tr>\n",
       "      <th>3</th>\n",
       "      <td>4</td>\n",
       "      <td>4</td>\n",
       "    </tr>\n",
       "    <tr>\n",
       "      <th>4</th>\n",
       "      <td>5</td>\n",
       "      <td>2</td>\n",
       "    </tr>\n",
       "    <tr>\n",
       "      <th>5</th>\n",
       "      <td>6</td>\n",
       "      <td>0</td>\n",
       "    </tr>\n",
       "    <tr>\n",
       "      <th>6</th>\n",
       "      <td>7</td>\n",
       "      <td>4</td>\n",
       "    </tr>\n",
       "    <tr>\n",
       "      <th>7</th>\n",
       "      <td>8</td>\n",
       "      <td>8</td>\n",
       "    </tr>\n",
       "    <tr>\n",
       "      <th>8</th>\n",
       "      <td>9</td>\n",
       "      <td>16</td>\n",
       "    </tr>\n",
       "    <tr>\n",
       "      <th>9</th>\n",
       "      <td>10</td>\n",
       "      <td>14</td>\n",
       "    </tr>\n",
       "    <tr>\n",
       "      <th>10</th>\n",
       "      <td>11</td>\n",
       "      <td>10</td>\n",
       "    </tr>\n",
       "    <tr>\n",
       "      <th>11</th>\n",
       "      <td>12</td>\n",
       "      <td>2</td>\n",
       "    </tr>\n",
       "    <tr>\n",
       "      <th>12</th>\n",
       "      <td>13</td>\n",
       "      <td>2</td>\n",
       "    </tr>\n",
       "    <tr>\n",
       "      <th>13</th>\n",
       "      <td>14</td>\n",
       "      <td>4</td>\n",
       "    </tr>\n",
       "    <tr>\n",
       "      <th>14</th>\n",
       "      <td>15</td>\n",
       "      <td>6</td>\n",
       "    </tr>\n",
       "    <tr>\n",
       "      <th>15</th>\n",
       "      <td>16</td>\n",
       "      <td>4</td>\n",
       "    </tr>\n",
       "    <tr>\n",
       "      <th>16</th>\n",
       "      <td>17</td>\n",
       "      <td>6</td>\n",
       "    </tr>\n",
       "    <tr>\n",
       "      <th>17</th>\n",
       "      <td>18</td>\n",
       "      <td>6</td>\n",
       "    </tr>\n",
       "  </tbody>\n",
       "</table>\n",
       "</div>"
      ],
      "text/plain": [
       "    iter  value\n",
       "0      1      4\n",
       "1      2      4\n",
       "2      3      6\n",
       "3      4      4\n",
       "4      5      2\n",
       "5      6      0\n",
       "6      7      4\n",
       "7      8      8\n",
       "8      9     16\n",
       "9     10     14\n",
       "10    11     10\n",
       "11    12      2\n",
       "12    13      2\n",
       "13    14      4\n",
       "14    15      6\n",
       "15    16      4\n",
       "16    17      6\n",
       "17    18      6"
      ]
     },
     "execution_count": 27,
     "metadata": {},
     "output_type": "execute_result"
    }
   ],
   "source": [
    "num_pairs"
   ]
  },
  {
   "cell_type": "code",
   "execution_count": 67,
   "metadata": {
    "collapsed": false
   },
   "outputs": [
    {
     "data": {
      "text/html": [
       "<div>\n",
       "<table border=\"1\" class=\"dataframe\">\n",
       "  <thead>\n",
       "    <tr style=\"text-align: right;\">\n",
       "      <th></th>\n",
       "      <th>disp</th>\n",
       "      <th>iter</th>\n",
       "      <th>cat</th>\n",
       "      <th>value</th>\n",
       "      <th>cat_sim</th>\n",
       "    </tr>\n",
       "  </thead>\n",
       "  <tbody>\n",
       "    <tr>\n",
       "      <th>0</th>\n",
       "      <td>1</td>\n",
       "      <td>1</td>\n",
       "      <td>1</td>\n",
       "      <td>0</td>\n",
       "      <td>True</td>\n",
       "    </tr>\n",
       "    <tr>\n",
       "      <th>1</th>\n",
       "      <td>1</td>\n",
       "      <td>1</td>\n",
       "      <td>2</td>\n",
       "      <td>0</td>\n",
       "      <td>True</td>\n",
       "    </tr>\n",
       "    <tr>\n",
       "      <th>2</th>\n",
       "      <td>1</td>\n",
       "      <td>1</td>\n",
       "      <td>3</td>\n",
       "      <td>0</td>\n",
       "      <td>False</td>\n",
       "    </tr>\n",
       "    <tr>\n",
       "      <th>3</th>\n",
       "      <td>1</td>\n",
       "      <td>1</td>\n",
       "      <td>4</td>\n",
       "      <td>2</td>\n",
       "      <td>False</td>\n",
       "    </tr>\n",
       "    <tr>\n",
       "      <th>4</th>\n",
       "      <td>1</td>\n",
       "      <td>2</td>\n",
       "      <td>1</td>\n",
       "      <td>0</td>\n",
       "      <td>True</td>\n",
       "    </tr>\n",
       "  </tbody>\n",
       "</table>\n",
       "</div>"
      ],
      "text/plain": [
       "   disp  iter  cat  value cat_sim\n",
       "0     1     1    1      0    True\n",
       "1     1     1    2      0    True\n",
       "2     1     1    3      0   False\n",
       "3     1     1    4      2   False\n",
       "4     1     2    1      0    True"
      ]
     },
     "execution_count": 67,
     "metadata": {},
     "output_type": "execute_result"
    }
   ],
   "source": [
    "ang_df.head()"
   ]
  },
  {
   "cell_type": "code",
   "execution_count": null,
   "metadata": {
    "collapsed": true
   },
   "outputs": [],
   "source": []
  }
 ],
 "metadata": {
  "kernelspec": {
   "display_name": "Python 2",
   "language": "python",
   "name": "python2"
  },
  "language_info": {
   "codemirror_mode": {
    "name": "ipython",
    "version": 2
   },
   "file_extension": ".py",
   "mimetype": "text/x-python",
   "name": "python",
   "nbconvert_exporter": "python",
   "pygments_lexer": "ipython2",
   "version": "2.7.12"
  }
 },
 "nbformat": 4,
 "nbformat_minor": 0
}
